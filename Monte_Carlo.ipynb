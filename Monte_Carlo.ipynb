{
  "nbformat": 4,
  "nbformat_minor": 0,
  "metadata": {
    "colab": {
      "name": "Monte-Carlo.ipynb",
      "provenance": [],
      "collapsed_sections": []
    },
    "kernelspec": {
      "name": "python3",
      "display_name": "Python 3"
    },
    "language_info": {
      "name": "python"
    }
  },
  "cells": [
    {
      "cell_type": "markdown",
      "source": [
        "Методы Монте-Карло (ММК) — группа численных методов для изучения случайных процессов. Суть метода заключается в следующем: процесс описывается математической моделью с использованием генератора случайных величин, модель многократно обсчитывается, на основе полученных данных вычисляются вероятностные характеристики рассматриваемого процесса."
      ],
      "metadata": {
        "id": "5nLKPLxmwNAb"
      }
    },
    {
      "cell_type": "code",
      "execution_count": null,
      "metadata": {
        "id": "b_q_xzwhua_J"
      },
      "outputs": [],
      "source": [
        "import pandas as pd\n",
        "import numpy as np"
      ]
    },
    {
      "cell_type": "markdown",
      "source": [
        "Вероятность — степень (относительная мера, количественная оценка) возможности наступления некоторого события. \n",
        "\n",
        "Если бросать кубик множество раз, то тот процент бросков, в которых выпала, например, шестерка - это и есть ее вероятность."
      ],
      "metadata": {
        "id": "po7Mjconu5lh"
      }
    },
    {
      "cell_type": "code",
      "source": [
        "# вероятность можно оценивать экспериментально\n",
        "# оценим вероятность выпадения 6-ки на кубике\n",
        "dice = pd.Series([1,2,3,4,5,6]) # кубик-столбец датафрейма"
      ],
      "metadata": {
        "id": "39jqIkKmvTiW"
      },
      "execution_count": null,
      "outputs": []
    },
    {
      "cell_type": "code",
      "source": [
        "# один бросок кубика\n",
        "# выбор одного случайного сэмпла (значения в столбце)\n",
        "# replace=True - выборка из одного элемента с возвращением\n",
        "dice.sample(1, replace=True).values[0]"
      ],
      "metadata": {
        "colab": {
          "base_uri": "https://localhost:8080/"
        },
        "id": "XnuSUmKrwr6J",
        "outputId": "7a65c1fc-83cd-4cc7-ad77-03ed69f37fb6"
      },
      "execution_count": null,
      "outputs": [
        {
          "output_type": "execute_result",
          "data": {
            "text/plain": [
              "4"
            ]
          },
          "metadata": {},
          "execution_count": 4
        }
      ]
    },
    {
      "cell_type": "code",
      "source": [
        "# броски кубика\n",
        "rolls = [dice.sample(1, replace=True).values[0] for _ in range(100000)]\n",
        "rolls[:10]"
      ],
      "metadata": {
        "colab": {
          "base_uri": "https://localhost:8080/"
        },
        "id": "XBLgSE2ZxKn1",
        "outputId": "9f40c7e8-9711-459f-e841-620d795b3110"
      },
      "execution_count": null,
      "outputs": [
        {
          "output_type": "execute_result",
          "data": {
            "text/plain": [
              "[5, 5, 6, 6, 2, 5, 2, 6, 3, 2]"
            ]
          },
          "metadata": {},
          "execution_count": 5
        }
      ]
    },
    {
      "cell_type": "code",
      "source": [
        "# посчтав, в скольки проценах случаев выпала шестерка в листе rolls, оценим вероятность этого события\n",
        "pd.Series(rolls).value_counts(normalize=True) # normalize как раз берет долю"
      ],
      "metadata": {
        "colab": {
          "base_uri": "https://localhost:8080/"
        },
        "id": "iV-14_Dnxkjm",
        "outputId": "57ff29d3-abc8-4c1f-d0c0-d5a296dce4df"
      },
      "execution_count": null,
      "outputs": [
        {
          "output_type": "execute_result",
          "data": {
            "text/plain": [
              "4    0.16849\n",
              "6    0.16736\n",
              "5    0.16706\n",
              "1    0.16640\n",
              "2    0.16543\n",
              "3    0.16526\n",
              "dtype: float64"
            ]
          },
          "metadata": {},
          "execution_count": 6
        }
      ]
    },
    {
      "cell_type": "code",
      "source": [
        "# аналитически:\n",
        "1/6"
      ],
      "metadata": {
        "colab": {
          "base_uri": "https://localhost:8080/"
        },
        "id": "wRtbC6jMx9-9",
        "outputId": "b0adc6e8-a30e-4a4f-e877-0dc4b5206c8c"
      },
      "execution_count": null,
      "outputs": [
        {
          "output_type": "execute_result",
          "data": {
            "text/plain": [
              "0.16666666666666666"
            ]
          },
          "metadata": {},
          "execution_count": 7
        }
      ]
    },
    {
      "cell_type": "markdown",
      "source": [
        "# Задачки"
      ],
      "metadata": {
        "id": "DM8V8VmBybi1"
      }
    },
    {
      "cell_type": "markdown",
      "source": [
        "Парадокс дней рождений\n",
        "\n",
        "Определить вероятность того, что в группе из 23 людей у двоих из них совпадет день рождения (день, месяц)\n",
        "\n",
        "Интуиция:\n",
        "\n",
        "Если собирать группы по 23 человека множество раз и каждый раз определять совпадение дней рождений, в какой доле случаев совпадение будет найдено?"
      ],
      "metadata": {
        "id": "E1B2INk4zCV9"
      }
    },
    {
      "cell_type": "code",
      "source": [
        "# генератор комнаты с 23 людьми с какими-то днями рождения\n",
        "\n",
        "bd = pd.Series(range(365)) # возможные дни рождения 0-364\n",
        "# bd - огромный кубик, который мы бросаем, сажая людей в комнату,\n",
        "# с возвращением, ибо др могут повторяться"
      ],
      "metadata": {
        "id": "76wJrMpfzGZX"
      },
      "execution_count": null,
      "outputs": []
    },
    {
      "cell_type": "code",
      "source": [
        "t = bd.sample(23, replace=True) # сэмплируем 23 человека с возвращением"
      ],
      "metadata": {
        "id": "_ptOre8R0cxp"
      },
      "execution_count": null,
      "outputs": []
    },
    {
      "cell_type": "code",
      "source": [
        "t.duplicated() # есть ли совпадения"
      ],
      "metadata": {
        "colab": {
          "base_uri": "https://localhost:8080/"
        },
        "id": "K-oUZpZE0ej_",
        "outputId": "b2308bfe-25f2-465e-b4e2-aa564e86e2e0"
      },
      "execution_count": null,
      "outputs": [
        {
          "output_type": "execute_result",
          "data": {
            "text/plain": [
              "261    False\n",
              "82     False\n",
              "232    False\n",
              "149    False\n",
              "181    False\n",
              "346    False\n",
              "89     False\n",
              "362    False\n",
              "263    False\n",
              "310    False\n",
              "131    False\n",
              "204    False\n",
              "294    False\n",
              "82      True\n",
              "342    False\n",
              "187    False\n",
              "97     False\n",
              "166    False\n",
              "191    False\n",
              "355    False\n",
              "59     False\n",
              "328    False\n",
              "164    False\n",
              "dtype: bool"
            ]
          },
          "metadata": {},
          "execution_count": 10
        }
      ]
    },
    {
      "cell_type": "code",
      "source": [
        "t.duplicated().max() # схлопываем до одного значения"
      ],
      "metadata": {
        "colab": {
          "base_uri": "https://localhost:8080/"
        },
        "id": "mYhkjDCH1SK9",
        "outputId": "48aba3e2-d2f0-428c-d9a2-d303c5534a99"
      },
      "execution_count": null,
      "outputs": [
        {
          "output_type": "execute_result",
          "data": {
            "text/plain": [
              "True"
            ]
          },
          "metadata": {},
          "execution_count": 11
        }
      ]
    },
    {
      "cell_type": "code",
      "source": [
        "# теперь делаем множество комнат\n",
        "rooms = [bd.sample(23, replace=True).duplicated().max() for _ in range(10000)]"
      ],
      "metadata": {
        "id": "HK1Wf-xw1hyg"
      },
      "execution_count": null,
      "outputs": []
    },
    {
      "cell_type": "code",
      "source": [
        "rooms[:10]"
      ],
      "metadata": {
        "colab": {
          "base_uri": "https://localhost:8080/"
        },
        "id": "z6guLjpO15cU",
        "outputId": "1e7d9df3-11af-44d2-d46a-ec9a453264a1"
      },
      "execution_count": null,
      "outputs": [
        {
          "output_type": "execute_result",
          "data": {
            "text/plain": [
              "[False, True, False, False, False, True, True, True, True, True]"
            ]
          },
          "metadata": {},
          "execution_count": 13
        }
      ]
    },
    {
      "cell_type": "code",
      "source": [
        "# доля комнат, в которых было совпадение\n",
        "np.mean(rooms)"
      ],
      "metadata": {
        "colab": {
          "base_uri": "https://localhost:8080/"
        },
        "id": "EgAgIuue2L0-",
        "outputId": "da997169-bb10-4795-8286-5ccf8808396a"
      },
      "execution_count": null,
      "outputs": [
        {
          "output_type": "execute_result",
          "data": {
            "text/plain": [
              "0.5038"
            ]
          },
          "metadata": {},
          "execution_count": 14
        }
      ]
    },
    {
      "cell_type": "markdown",
      "source": [
        "Экзамен - билеты убираются по одному в сторону, после того, как ученики их тянут. Ученик выучил 20 билетов из 30. Когда ему выгоднее идти, 1м, 2м или 20м, чтобы вероятность вытянуть выученный билет была выше?"
      ],
      "metadata": {
        "id": "V2OsH4GB3wC8"
      }
    },
    {
      "cell_type": "code",
      "source": [
        "tickets = list(range(1, 31)) # 30 билетов"
      ],
      "metadata": {
        "id": "VcJBkSwr6ARZ"
      },
      "execution_count": null,
      "outputs": []
    },
    {
      "cell_type": "code",
      "source": [
        "student = list(range(1, 21)) # студент знает 20"
      ],
      "metadata": {
        "id": "jyuj5yui6RUR"
      },
      "execution_count": null,
      "outputs": []
    },
    {
      "cell_type": "code",
      "source": [
        "# перемешаем билеты\n",
        "from random import shuffle\n",
        "shuffle(tickets)"
      ],
      "metadata": {
        "id": "TJkThGd06l9K"
      },
      "execution_count": null,
      "outputs": []
    },
    {
      "cell_type": "code",
      "source": [
        "tickets[:5] # какой билет выпал бы студенту, если бы он пошел 1м, 2м и тд"
      ],
      "metadata": {
        "colab": {
          "base_uri": "https://localhost:8080/"
        },
        "id": "gwqtQ5T6674v",
        "outputId": "d9af3d0e-8972-4c96-b969-0db81577fb52"
      },
      "execution_count": null,
      "outputs": [
        {
          "output_type": "execute_result",
          "data": {
            "text/plain": [
              "[21, 9, 10, 27, 18]"
            ]
          },
          "metadata": {},
          "execution_count": 18
        }
      ]
    },
    {
      "cell_type": "code",
      "source": [
        "# определим, выпал ли студенту тот билет, который он знал\n",
        "n = 10000 # количество экзаменов\n",
        "tickets = list(range(1, 31)) # 30 билетов\n",
        "student = list(range(1, 21)) # студент знает 20\n",
        "\n",
        "all_results_mean = []\n",
        "\n",
        "for m in range(20):\n",
        "  print(m)\n",
        "  result = [] # сдал или не сдал экзамен\n",
        "  for _ in range(n):\n",
        "    shuffle(tickets)\n",
        "    result.append(tickets[m] in student) # студент знает или нет первый билет\n",
        "  all_results_mean.append(np.mean(result))"
      ],
      "metadata": {
        "colab": {
          "base_uri": "https://localhost:8080/"
        },
        "id": "1ytDd8FC6_B8",
        "outputId": "742c72bf-9831-4ca7-b742-55653360f4a8"
      },
      "execution_count": null,
      "outputs": [
        {
          "output_type": "stream",
          "name": "stdout",
          "text": [
            "0\n",
            "1\n",
            "2\n",
            "3\n",
            "4\n",
            "5\n",
            "6\n",
            "7\n",
            "8\n",
            "9\n",
            "10\n",
            "11\n",
            "12\n",
            "13\n",
            "14\n",
            "15\n",
            "16\n",
            "17\n",
            "18\n",
            "19\n"
          ]
        }
      ]
    },
    {
      "cell_type": "code",
      "source": [
        "all_results_mean[:10] # не важно, каким по счету он пойдет"
      ],
      "metadata": {
        "colab": {
          "base_uri": "https://localhost:8080/"
        },
        "id": "GYwQI9IA7O4c",
        "outputId": "b46bb381-fc5b-410a-aeae-12b680f11956"
      },
      "execution_count": null,
      "outputs": [
        {
          "output_type": "execute_result",
          "data": {
            "text/plain": [
              "[0.6664,\n",
              " 0.6667,\n",
              " 0.6607,\n",
              " 0.6619,\n",
              " 0.6682,\n",
              " 0.6759,\n",
              " 0.6674,\n",
              " 0.6616,\n",
              " 0.6669,\n",
              " 0.6667]"
            ]
          },
          "metadata": {},
          "execution_count": 20
        }
      ]
    },
    {
      "cell_type": "code",
      "source": [
        "# аналитически:\n",
        "2/3"
      ],
      "metadata": {
        "colab": {
          "base_uri": "https://localhost:8080/"
        },
        "id": "bkcrZ0nZ8gEB",
        "outputId": "85ea38a5-497d-472a-81e3-8f2ba4e96d42"
      },
      "execution_count": null,
      "outputs": [
        {
          "output_type": "execute_result",
          "data": {
            "text/plain": [
              "0.6666666666666666"
            ]
          },
          "metadata": {},
          "execution_count": 21
        }
      ]
    },
    {
      "cell_type": "markdown",
      "source": [
        "Произошло дтп с участием такси. Такси в городе синие и зеленые. Зеленым принадлежит 85% всех такси, синим 15%. Свидетель говорит, что такси было синим. Свидетель верно определяет такси в 80% случаев. Какова вероятность, что такси действительно было синим?"
      ],
      "metadata": {
        "id": "yTTgvF4R-T3m"
      }
    },
    {
      "cell_type": "code",
      "source": [
        "# машина синяя = 1\n",
        "# генератор, который в 15% случаев дает 1\n",
        "\n",
        "np.random.binomial(1, 0.15)"
      ],
      "metadata": {
        "id": "4scxqPOlAq_P",
        "colab": {
          "base_uri": "https://localhost:8080/"
        },
        "outputId": "c0ed102d-2fa2-40d2-9753-4e2bd27a05b4"
      },
      "execution_count": null,
      "outputs": [
        {
          "output_type": "execute_result",
          "data": {
            "text/plain": [
              "1"
            ]
          },
          "metadata": {},
          "execution_count": 22
        }
      ]
    },
    {
      "cell_type": "code",
      "source": [
        "def witness(taxi): # свидетель\n",
        "  if np.random.binomial(1, 0.8): # условие срабатывает в 80% случаев\n",
        "    return taxi\n",
        "  return abs(taxi-1)"
      ],
      "metadata": {
        "id": "Sais7bye68Lw"
      },
      "execution_count": null,
      "outputs": []
    },
    {
      "cell_type": "code",
      "source": [
        "witness(0)"
      ],
      "metadata": {
        "colab": {
          "base_uri": "https://localhost:8080/"
        },
        "id": "6H4Ag5WS7swT",
        "outputId": "15ced9e5-1be5-4bc6-bcaa-9aad02417e50"
      },
      "execution_count": null,
      "outputs": [
        {
          "output_type": "execute_result",
          "data": {
            "text/plain": [
              "0"
            ]
          },
          "metadata": {},
          "execution_count": 31
        }
      ]
    },
    {
      "cell_type": "code",
      "source": [
        "# моделируем много дтп\n",
        "n = 10000\n",
        "result = []\n",
        "for _ in range(n):\n",
        "  taxi = np.random.binomial(1, 0.15) # генерится какое-то такси\n",
        "  witness_answer = witness(taxi)\n",
        "  result.append((taxi, witness_answer))"
      ],
      "metadata": {
        "id": "XrRPQf9U7xqb"
      },
      "execution_count": null,
      "outputs": []
    },
    {
      "cell_type": "code",
      "source": [
        "t = pd.DataFrame(result, columns = ['taxi', 'witness_answer'])"
      ],
      "metadata": {
        "id": "9gb5mHOA8Zhe"
      },
      "execution_count": null,
      "outputs": []
    },
    {
      "cell_type": "code",
      "source": [
        "t"
      ],
      "metadata": {
        "colab": {
          "base_uri": "https://localhost:8080/",
          "height": 423
        },
        "id": "u9iyckg-8pDd",
        "outputId": "9df525a9-bde1-4a4c-ce7f-c8155d3a9be2"
      },
      "execution_count": null,
      "outputs": [
        {
          "output_type": "execute_result",
          "data": {
            "text/plain": [
              "      taxi  witness_answer\n",
              "0        0               0\n",
              "1        0               0\n",
              "2        0               0\n",
              "3        0               0\n",
              "4        0               0\n",
              "...    ...             ...\n",
              "9995     0               0\n",
              "9996     0               0\n",
              "9997     0               0\n",
              "9998     1               1\n",
              "9999     0               0\n",
              "\n",
              "[10000 rows x 2 columns]"
            ],
            "text/html": [
              "\n",
              "  <div id=\"df-f43b1a4c-ec86-4f59-90b2-bc16745bfaa4\">\n",
              "    <div class=\"colab-df-container\">\n",
              "      <div>\n",
              "<style scoped>\n",
              "    .dataframe tbody tr th:only-of-type {\n",
              "        vertical-align: middle;\n",
              "    }\n",
              "\n",
              "    .dataframe tbody tr th {\n",
              "        vertical-align: top;\n",
              "    }\n",
              "\n",
              "    .dataframe thead th {\n",
              "        text-align: right;\n",
              "    }\n",
              "</style>\n",
              "<table border=\"1\" class=\"dataframe\">\n",
              "  <thead>\n",
              "    <tr style=\"text-align: right;\">\n",
              "      <th></th>\n",
              "      <th>taxi</th>\n",
              "      <th>witness_answer</th>\n",
              "    </tr>\n",
              "  </thead>\n",
              "  <tbody>\n",
              "    <tr>\n",
              "      <th>0</th>\n",
              "      <td>0</td>\n",
              "      <td>0</td>\n",
              "    </tr>\n",
              "    <tr>\n",
              "      <th>1</th>\n",
              "      <td>0</td>\n",
              "      <td>0</td>\n",
              "    </tr>\n",
              "    <tr>\n",
              "      <th>2</th>\n",
              "      <td>0</td>\n",
              "      <td>0</td>\n",
              "    </tr>\n",
              "    <tr>\n",
              "      <th>3</th>\n",
              "      <td>0</td>\n",
              "      <td>0</td>\n",
              "    </tr>\n",
              "    <tr>\n",
              "      <th>4</th>\n",
              "      <td>0</td>\n",
              "      <td>0</td>\n",
              "    </tr>\n",
              "    <tr>\n",
              "      <th>...</th>\n",
              "      <td>...</td>\n",
              "      <td>...</td>\n",
              "    </tr>\n",
              "    <tr>\n",
              "      <th>9995</th>\n",
              "      <td>0</td>\n",
              "      <td>0</td>\n",
              "    </tr>\n",
              "    <tr>\n",
              "      <th>9996</th>\n",
              "      <td>0</td>\n",
              "      <td>0</td>\n",
              "    </tr>\n",
              "    <tr>\n",
              "      <th>9997</th>\n",
              "      <td>0</td>\n",
              "      <td>0</td>\n",
              "    </tr>\n",
              "    <tr>\n",
              "      <th>9998</th>\n",
              "      <td>1</td>\n",
              "      <td>1</td>\n",
              "    </tr>\n",
              "    <tr>\n",
              "      <th>9999</th>\n",
              "      <td>0</td>\n",
              "      <td>0</td>\n",
              "    </tr>\n",
              "  </tbody>\n",
              "</table>\n",
              "<p>10000 rows × 2 columns</p>\n",
              "</div>\n",
              "      <button class=\"colab-df-convert\" onclick=\"convertToInteractive('df-f43b1a4c-ec86-4f59-90b2-bc16745bfaa4')\"\n",
              "              title=\"Convert this dataframe to an interactive table.\"\n",
              "              style=\"display:none;\">\n",
              "        \n",
              "  <svg xmlns=\"http://www.w3.org/2000/svg\" height=\"24px\"viewBox=\"0 0 24 24\"\n",
              "       width=\"24px\">\n",
              "    <path d=\"M0 0h24v24H0V0z\" fill=\"none\"/>\n",
              "    <path d=\"M18.56 5.44l.94 2.06.94-2.06 2.06-.94-2.06-.94-.94-2.06-.94 2.06-2.06.94zm-11 1L8.5 8.5l.94-2.06 2.06-.94-2.06-.94L8.5 2.5l-.94 2.06-2.06.94zm10 10l.94 2.06.94-2.06 2.06-.94-2.06-.94-.94-2.06-.94 2.06-2.06.94z\"/><path d=\"M17.41 7.96l-1.37-1.37c-.4-.4-.92-.59-1.43-.59-.52 0-1.04.2-1.43.59L10.3 9.45l-7.72 7.72c-.78.78-.78 2.05 0 2.83L4 21.41c.39.39.9.59 1.41.59.51 0 1.02-.2 1.41-.59l7.78-7.78 2.81-2.81c.8-.78.8-2.07 0-2.86zM5.41 20L4 18.59l7.72-7.72 1.47 1.35L5.41 20z\"/>\n",
              "  </svg>\n",
              "      </button>\n",
              "      \n",
              "  <style>\n",
              "    .colab-df-container {\n",
              "      display:flex;\n",
              "      flex-wrap:wrap;\n",
              "      gap: 12px;\n",
              "    }\n",
              "\n",
              "    .colab-df-convert {\n",
              "      background-color: #E8F0FE;\n",
              "      border: none;\n",
              "      border-radius: 50%;\n",
              "      cursor: pointer;\n",
              "      display: none;\n",
              "      fill: #1967D2;\n",
              "      height: 32px;\n",
              "      padding: 0 0 0 0;\n",
              "      width: 32px;\n",
              "    }\n",
              "\n",
              "    .colab-df-convert:hover {\n",
              "      background-color: #E2EBFA;\n",
              "      box-shadow: 0px 1px 2px rgba(60, 64, 67, 0.3), 0px 1px 3px 1px rgba(60, 64, 67, 0.15);\n",
              "      fill: #174EA6;\n",
              "    }\n",
              "\n",
              "    [theme=dark] .colab-df-convert {\n",
              "      background-color: #3B4455;\n",
              "      fill: #D2E3FC;\n",
              "    }\n",
              "\n",
              "    [theme=dark] .colab-df-convert:hover {\n",
              "      background-color: #434B5C;\n",
              "      box-shadow: 0px 1px 3px 1px rgba(0, 0, 0, 0.15);\n",
              "      filter: drop-shadow(0px 1px 2px rgba(0, 0, 0, 0.3));\n",
              "      fill: #FFFFFF;\n",
              "    }\n",
              "  </style>\n",
              "\n",
              "      <script>\n",
              "        const buttonEl =\n",
              "          document.querySelector('#df-f43b1a4c-ec86-4f59-90b2-bc16745bfaa4 button.colab-df-convert');\n",
              "        buttonEl.style.display =\n",
              "          google.colab.kernel.accessAllowed ? 'block' : 'none';\n",
              "\n",
              "        async function convertToInteractive(key) {\n",
              "          const element = document.querySelector('#df-f43b1a4c-ec86-4f59-90b2-bc16745bfaa4');\n",
              "          const dataTable =\n",
              "            await google.colab.kernel.invokeFunction('convertToInteractive',\n",
              "                                                     [key], {});\n",
              "          if (!dataTable) return;\n",
              "\n",
              "          const docLinkHtml = 'Like what you see? Visit the ' +\n",
              "            '<a target=\"_blank\" href=https://colab.research.google.com/notebooks/data_table.ipynb>data table notebook</a>'\n",
              "            + ' to learn more about interactive tables.';\n",
              "          element.innerHTML = '';\n",
              "          dataTable['output_type'] = 'display_data';\n",
              "          await google.colab.output.renderOutput(dataTable, element);\n",
              "          const docLink = document.createElement('div');\n",
              "          docLink.innerHTML = docLinkHtml;\n",
              "          element.appendChild(docLink);\n",
              "        }\n",
              "      </script>\n",
              "    </div>\n",
              "  </div>\n",
              "  "
            ]
          },
          "metadata": {},
          "execution_count": 34
        }
      ]
    },
    {
      "cell_type": "code",
      "source": [
        "# вероятность, что такси синее\n",
        "# сгруппируем по ответу свидетеля\n",
        "t.groupby('witness_answer')['taxi'].mean()"
      ],
      "metadata": {
        "colab": {
          "base_uri": "https://localhost:8080/"
        },
        "id": "XF7LZfUf8qTG",
        "outputId": "10af33d5-a458-46a4-c679-fde1966019e0"
      },
      "execution_count": null,
      "outputs": [
        {
          "output_type": "execute_result",
          "data": {
            "text/plain": [
              "witness_answer\n",
              "0    0.042341\n",
              "1    0.408163\n",
              "Name: taxi, dtype: float64"
            ]
          },
          "metadata": {},
          "execution_count": 35
        }
      ]
    },
    {
      "cell_type": "markdown",
      "source": [
        "Русска рулетка. В барабане два патрона подряд. первый человек стреляет и остается жив. второму предлагают покрутить барабан перед выстрелом или сразу стрелять. что выбрать?"
      ],
      "metadata": {
        "id": "KBP43cAI87TM"
      }
    },
    {
      "cell_type": "code",
      "source": [
        "# модель барабана револьвера\n",
        "chamber = [0,0,0,0,1,1]"
      ],
      "metadata": {
        "id": "ml1l0NRG-k-I"
      },
      "execution_count": null,
      "outputs": []
    },
    {
      "cell_type": "code",
      "source": [
        "def one_turn(chamber): # поворот барабана на 1 ячейку вперед\n",
        "  new_chamber = [0,0,0,0,0,0]\n",
        "  for i in range(len(chamber)):\n",
        "    new_chamber[(i+1) % len(chamber)] = chamber[i]\n",
        "  return new_chamber"
      ],
      "metadata": {
        "id": "7nqLLQjg_Gb2"
      },
      "execution_count": null,
      "outputs": []
    },
    {
      "cell_type": "code",
      "source": [
        "one_turn(chamber)"
      ],
      "metadata": {
        "colab": {
          "base_uri": "https://localhost:8080/"
        },
        "id": "THyww9ubAnnd",
        "outputId": "59fe9974-fbe3-4a7c-b709-69530360ff9a"
      },
      "execution_count": null,
      "outputs": [
        {
          "output_type": "execute_result",
          "data": {
            "text/plain": [
              "[1, 0, 0, 0, 0, 1]"
            ]
          },
          "metadata": {},
          "execution_count": 45
        }
      ]
    },
    {
      "cell_type": "code",
      "source": [
        "# заряжаем\n",
        "chamber = [1,1,0,0,0,0]"
      ],
      "metadata": {
        "id": "eaAO2PJsAtzY"
      },
      "execution_count": null,
      "outputs": []
    },
    {
      "cell_type": "code",
      "source": [
        "# первый игрок крутит барабан\n",
        "# просто случайное количество раз делаем поворот на 1 деление\n",
        "def spin_chamber(chamber):\n",
        "  n = np.random.randint(1,7)\n",
        "  for i in range(n):\n",
        "    chamber = one_turn(chamber)\n",
        "  return chamber"
      ],
      "metadata": {
        "id": "BoaWVpXIB6eq"
      },
      "execution_count": null,
      "outputs": []
    },
    {
      "cell_type": "code",
      "source": [
        "# проверим, равновероятен ли каждый результат\n",
        "pd.Series([str(spin_chamber(chamber)) for _ in range(10000)]).value_counts()"
      ],
      "metadata": {
        "colab": {
          "base_uri": "https://localhost:8080/"
        },
        "id": "tjhFKl7iDP7v",
        "outputId": "1dc748ad-93f0-40f8-ba2c-6eb8c0ee8d4c"
      },
      "execution_count": null,
      "outputs": [
        {
          "output_type": "execute_result",
          "data": {
            "text/plain": [
              "[0, 0, 1, 1, 0, 0]    1699\n",
              "[1, 1, 0, 0, 0, 0]    1691\n",
              "[0, 0, 0, 0, 1, 1]    1683\n",
              "[0, 0, 0, 1, 1, 0]    1658\n",
              "[0, 1, 1, 0, 0, 0]    1652\n",
              "[1, 0, 0, 0, 0, 1]    1617\n",
              "dtype: int64"
            ]
          },
          "metadata": {},
          "execution_count": 61
        }
      ]
    },
    {
      "cell_type": "code",
      "source": [
        "# вращает\n",
        "chamber = spin_chamber(chamber)"
      ],
      "metadata": {
        "id": "1FjR39_gDnth"
      },
      "execution_count": null,
      "outputs": []
    },
    {
      "cell_type": "code",
      "source": [
        "# первый игрок стеляет\n",
        "chamber = one_turn(chamber)\n",
        "# смотрим что выпало в первое гнезд барабана\n",
        "player1 = chamber[0] # если 1, то застрелен\n",
        "chamber[0] = 0 # пули в гнезде больше нет\n",
        "# если первый выжил, второй игрок вращает барабан - нужно это?\n",
        "chamber = spin_chamber(chamber)\n",
        "# второй игрок стреляет\n",
        "chamber = one_turn(chamber)\n",
        "player2 = chamber[0]\n",
        "\n",
        "print(player1)\n",
        "print(player2)\n"
      ],
      "metadata": {
        "colab": {
          "base_uri": "https://localhost:8080/"
        },
        "id": "nrWT0eMQC_tG",
        "outputId": "a0c943fd-41b7-4d95-c1e1-cb7a1b624b8a"
      },
      "execution_count": null,
      "outputs": [
        {
          "output_type": "stream",
          "name": "stdout",
          "text": [
            "0\n",
            "1\n"
          ]
        }
      ]
    },
    {
      "cell_type": "code",
      "source": [
        "# сделаем экспериенты\n",
        "n = 10000\n",
        "result = []\n",
        "for _ in range(n):\n",
        "  # заряжаем\n",
        "  chamber = [1,1,0,0,0,0]\n",
        "  # первый игрок крутит барабан  \n",
        "  chamber = spin_chamber(chamber)\n",
        "  # первый игрок стеляет\n",
        "  chamber = one_turn(chamber)\n",
        "  # смотрим что выпало в первое гнезд барабана\n",
        "  player1 = chamber[0] # если 1, то застрелен\n",
        "  chamber[0] = 0 # пули в гнезде больше нет\n",
        "\n",
        "  # если первый выжил, второй игрок вращает барабан - нужно это?\n",
        "  #chamber = spin_chamber(chamber)\n",
        "  \n",
        "  # второй игрок стреляет\n",
        "  chamber = one_turn(chamber)\n",
        "  player2 = chamber[0]\n",
        "\n",
        "  result.append((player1, player2))"
      ],
      "metadata": {
        "id": "dnETAOAoF5JO"
      },
      "execution_count": null,
      "outputs": []
    },
    {
      "cell_type": "code",
      "source": [
        "t = pd.DataFrame(result, columns = ['player1', 'player2'])"
      ],
      "metadata": {
        "id": "aG8J7BLDF5nu"
      },
      "execution_count": null,
      "outputs": []
    },
    {
      "cell_type": "code",
      "source": [
        "t"
      ],
      "metadata": {
        "colab": {
          "base_uri": "https://localhost:8080/",
          "height": 423
        },
        "id": "fMlHYKC_Gzav",
        "outputId": "f94932a8-873d-4634-9b2c-2c4689d24b60"
      },
      "execution_count": null,
      "outputs": [
        {
          "output_type": "execute_result",
          "data": {
            "text/plain": [
              "      player1  player2\n",
              "0           1        1\n",
              "1           1        0\n",
              "2           0        1\n",
              "3           0        1\n",
              "4           0        0\n",
              "...       ...      ...\n",
              "9995        1        0\n",
              "9996        0        0\n",
              "9997        0        0\n",
              "9998        0        1\n",
              "9999        0        1\n",
              "\n",
              "[10000 rows x 2 columns]"
            ],
            "text/html": [
              "\n",
              "  <div id=\"df-0b3c9a36-9e3f-4dff-a6b4-22cae1402048\">\n",
              "    <div class=\"colab-df-container\">\n",
              "      <div>\n",
              "<style scoped>\n",
              "    .dataframe tbody tr th:only-of-type {\n",
              "        vertical-align: middle;\n",
              "    }\n",
              "\n",
              "    .dataframe tbody tr th {\n",
              "        vertical-align: top;\n",
              "    }\n",
              "\n",
              "    .dataframe thead th {\n",
              "        text-align: right;\n",
              "    }\n",
              "</style>\n",
              "<table border=\"1\" class=\"dataframe\">\n",
              "  <thead>\n",
              "    <tr style=\"text-align: right;\">\n",
              "      <th></th>\n",
              "      <th>player1</th>\n",
              "      <th>player2</th>\n",
              "    </tr>\n",
              "  </thead>\n",
              "  <tbody>\n",
              "    <tr>\n",
              "      <th>0</th>\n",
              "      <td>1</td>\n",
              "      <td>1</td>\n",
              "    </tr>\n",
              "    <tr>\n",
              "      <th>1</th>\n",
              "      <td>1</td>\n",
              "      <td>0</td>\n",
              "    </tr>\n",
              "    <tr>\n",
              "      <th>2</th>\n",
              "      <td>0</td>\n",
              "      <td>1</td>\n",
              "    </tr>\n",
              "    <tr>\n",
              "      <th>3</th>\n",
              "      <td>0</td>\n",
              "      <td>1</td>\n",
              "    </tr>\n",
              "    <tr>\n",
              "      <th>4</th>\n",
              "      <td>0</td>\n",
              "      <td>0</td>\n",
              "    </tr>\n",
              "    <tr>\n",
              "      <th>...</th>\n",
              "      <td>...</td>\n",
              "      <td>...</td>\n",
              "    </tr>\n",
              "    <tr>\n",
              "      <th>9995</th>\n",
              "      <td>1</td>\n",
              "      <td>0</td>\n",
              "    </tr>\n",
              "    <tr>\n",
              "      <th>9996</th>\n",
              "      <td>0</td>\n",
              "      <td>0</td>\n",
              "    </tr>\n",
              "    <tr>\n",
              "      <th>9997</th>\n",
              "      <td>0</td>\n",
              "      <td>0</td>\n",
              "    </tr>\n",
              "    <tr>\n",
              "      <th>9998</th>\n",
              "      <td>0</td>\n",
              "      <td>1</td>\n",
              "    </tr>\n",
              "    <tr>\n",
              "      <th>9999</th>\n",
              "      <td>0</td>\n",
              "      <td>1</td>\n",
              "    </tr>\n",
              "  </tbody>\n",
              "</table>\n",
              "<p>10000 rows × 2 columns</p>\n",
              "</div>\n",
              "      <button class=\"colab-df-convert\" onclick=\"convertToInteractive('df-0b3c9a36-9e3f-4dff-a6b4-22cae1402048')\"\n",
              "              title=\"Convert this dataframe to an interactive table.\"\n",
              "              style=\"display:none;\">\n",
              "        \n",
              "  <svg xmlns=\"http://www.w3.org/2000/svg\" height=\"24px\"viewBox=\"0 0 24 24\"\n",
              "       width=\"24px\">\n",
              "    <path d=\"M0 0h24v24H0V0z\" fill=\"none\"/>\n",
              "    <path d=\"M18.56 5.44l.94 2.06.94-2.06 2.06-.94-2.06-.94-.94-2.06-.94 2.06-2.06.94zm-11 1L8.5 8.5l.94-2.06 2.06-.94-2.06-.94L8.5 2.5l-.94 2.06-2.06.94zm10 10l.94 2.06.94-2.06 2.06-.94-2.06-.94-.94-2.06-.94 2.06-2.06.94z\"/><path d=\"M17.41 7.96l-1.37-1.37c-.4-.4-.92-.59-1.43-.59-.52 0-1.04.2-1.43.59L10.3 9.45l-7.72 7.72c-.78.78-.78 2.05 0 2.83L4 21.41c.39.39.9.59 1.41.59.51 0 1.02-.2 1.41-.59l7.78-7.78 2.81-2.81c.8-.78.8-2.07 0-2.86zM5.41 20L4 18.59l7.72-7.72 1.47 1.35L5.41 20z\"/>\n",
              "  </svg>\n",
              "      </button>\n",
              "      \n",
              "  <style>\n",
              "    .colab-df-container {\n",
              "      display:flex;\n",
              "      flex-wrap:wrap;\n",
              "      gap: 12px;\n",
              "    }\n",
              "\n",
              "    .colab-df-convert {\n",
              "      background-color: #E8F0FE;\n",
              "      border: none;\n",
              "      border-radius: 50%;\n",
              "      cursor: pointer;\n",
              "      display: none;\n",
              "      fill: #1967D2;\n",
              "      height: 32px;\n",
              "      padding: 0 0 0 0;\n",
              "      width: 32px;\n",
              "    }\n",
              "\n",
              "    .colab-df-convert:hover {\n",
              "      background-color: #E2EBFA;\n",
              "      box-shadow: 0px 1px 2px rgba(60, 64, 67, 0.3), 0px 1px 3px 1px rgba(60, 64, 67, 0.15);\n",
              "      fill: #174EA6;\n",
              "    }\n",
              "\n",
              "    [theme=dark] .colab-df-convert {\n",
              "      background-color: #3B4455;\n",
              "      fill: #D2E3FC;\n",
              "    }\n",
              "\n",
              "    [theme=dark] .colab-df-convert:hover {\n",
              "      background-color: #434B5C;\n",
              "      box-shadow: 0px 1px 3px 1px rgba(0, 0, 0, 0.15);\n",
              "      filter: drop-shadow(0px 1px 2px rgba(0, 0, 0, 0.3));\n",
              "      fill: #FFFFFF;\n",
              "    }\n",
              "  </style>\n",
              "\n",
              "      <script>\n",
              "        const buttonEl =\n",
              "          document.querySelector('#df-0b3c9a36-9e3f-4dff-a6b4-22cae1402048 button.colab-df-convert');\n",
              "        buttonEl.style.display =\n",
              "          google.colab.kernel.accessAllowed ? 'block' : 'none';\n",
              "\n",
              "        async function convertToInteractive(key) {\n",
              "          const element = document.querySelector('#df-0b3c9a36-9e3f-4dff-a6b4-22cae1402048');\n",
              "          const dataTable =\n",
              "            await google.colab.kernel.invokeFunction('convertToInteractive',\n",
              "                                                     [key], {});\n",
              "          if (!dataTable) return;\n",
              "\n",
              "          const docLinkHtml = 'Like what you see? Visit the ' +\n",
              "            '<a target=\"_blank\" href=https://colab.research.google.com/notebooks/data_table.ipynb>data table notebook</a>'\n",
              "            + ' to learn more about interactive tables.';\n",
              "          element.innerHTML = '';\n",
              "          dataTable['output_type'] = 'display_data';\n",
              "          await google.colab.output.renderOutput(dataTable, element);\n",
              "          const docLink = document.createElement('div');\n",
              "          docLink.innerHTML = docLinkHtml;\n",
              "          element.appendChild(docLink);\n",
              "        }\n",
              "      </script>\n",
              "    </div>\n",
              "  </div>\n",
              "  "
            ]
          },
          "metadata": {},
          "execution_count": 111
        }
      ]
    },
    {
      "cell_type": "code",
      "source": [
        "t.groupby('player1')['player2'].agg(['count', 'mean'])"
      ],
      "metadata": {
        "colab": {
          "base_uri": "https://localhost:8080/",
          "height": 143
        },
        "id": "muIvw5RIGz6Z",
        "outputId": "28bb3b44-9030-4e35-f7ea-e630f420f626"
      },
      "execution_count": null,
      "outputs": [
        {
          "output_type": "execute_result",
          "data": {
            "text/plain": [
              "         count      mean\n",
              "player1                 \n",
              "0         6664  0.252101\n",
              "1         3336  0.500600"
            ],
            "text/html": [
              "\n",
              "  <div id=\"df-fea7a890-5cd1-45bb-a014-63de84c6f4d4\">\n",
              "    <div class=\"colab-df-container\">\n",
              "      <div>\n",
              "<style scoped>\n",
              "    .dataframe tbody tr th:only-of-type {\n",
              "        vertical-align: middle;\n",
              "    }\n",
              "\n",
              "    .dataframe tbody tr th {\n",
              "        vertical-align: top;\n",
              "    }\n",
              "\n",
              "    .dataframe thead th {\n",
              "        text-align: right;\n",
              "    }\n",
              "</style>\n",
              "<table border=\"1\" class=\"dataframe\">\n",
              "  <thead>\n",
              "    <tr style=\"text-align: right;\">\n",
              "      <th></th>\n",
              "      <th>count</th>\n",
              "      <th>mean</th>\n",
              "    </tr>\n",
              "    <tr>\n",
              "      <th>player1</th>\n",
              "      <th></th>\n",
              "      <th></th>\n",
              "    </tr>\n",
              "  </thead>\n",
              "  <tbody>\n",
              "    <tr>\n",
              "      <th>0</th>\n",
              "      <td>6664</td>\n",
              "      <td>0.252101</td>\n",
              "    </tr>\n",
              "    <tr>\n",
              "      <th>1</th>\n",
              "      <td>3336</td>\n",
              "      <td>0.500600</td>\n",
              "    </tr>\n",
              "  </tbody>\n",
              "</table>\n",
              "</div>\n",
              "      <button class=\"colab-df-convert\" onclick=\"convertToInteractive('df-fea7a890-5cd1-45bb-a014-63de84c6f4d4')\"\n",
              "              title=\"Convert this dataframe to an interactive table.\"\n",
              "              style=\"display:none;\">\n",
              "        \n",
              "  <svg xmlns=\"http://www.w3.org/2000/svg\" height=\"24px\"viewBox=\"0 0 24 24\"\n",
              "       width=\"24px\">\n",
              "    <path d=\"M0 0h24v24H0V0z\" fill=\"none\"/>\n",
              "    <path d=\"M18.56 5.44l.94 2.06.94-2.06 2.06-.94-2.06-.94-.94-2.06-.94 2.06-2.06.94zm-11 1L8.5 8.5l.94-2.06 2.06-.94-2.06-.94L8.5 2.5l-.94 2.06-2.06.94zm10 10l.94 2.06.94-2.06 2.06-.94-2.06-.94-.94-2.06-.94 2.06-2.06.94z\"/><path d=\"M17.41 7.96l-1.37-1.37c-.4-.4-.92-.59-1.43-.59-.52 0-1.04.2-1.43.59L10.3 9.45l-7.72 7.72c-.78.78-.78 2.05 0 2.83L4 21.41c.39.39.9.59 1.41.59.51 0 1.02-.2 1.41-.59l7.78-7.78 2.81-2.81c.8-.78.8-2.07 0-2.86zM5.41 20L4 18.59l7.72-7.72 1.47 1.35L5.41 20z\"/>\n",
              "  </svg>\n",
              "      </button>\n",
              "      \n",
              "  <style>\n",
              "    .colab-df-container {\n",
              "      display:flex;\n",
              "      flex-wrap:wrap;\n",
              "      gap: 12px;\n",
              "    }\n",
              "\n",
              "    .colab-df-convert {\n",
              "      background-color: #E8F0FE;\n",
              "      border: none;\n",
              "      border-radius: 50%;\n",
              "      cursor: pointer;\n",
              "      display: none;\n",
              "      fill: #1967D2;\n",
              "      height: 32px;\n",
              "      padding: 0 0 0 0;\n",
              "      width: 32px;\n",
              "    }\n",
              "\n",
              "    .colab-df-convert:hover {\n",
              "      background-color: #E2EBFA;\n",
              "      box-shadow: 0px 1px 2px rgba(60, 64, 67, 0.3), 0px 1px 3px 1px rgba(60, 64, 67, 0.15);\n",
              "      fill: #174EA6;\n",
              "    }\n",
              "\n",
              "    [theme=dark] .colab-df-convert {\n",
              "      background-color: #3B4455;\n",
              "      fill: #D2E3FC;\n",
              "    }\n",
              "\n",
              "    [theme=dark] .colab-df-convert:hover {\n",
              "      background-color: #434B5C;\n",
              "      box-shadow: 0px 1px 3px 1px rgba(0, 0, 0, 0.15);\n",
              "      filter: drop-shadow(0px 1px 2px rgba(0, 0, 0, 0.3));\n",
              "      fill: #FFFFFF;\n",
              "    }\n",
              "  </style>\n",
              "\n",
              "      <script>\n",
              "        const buttonEl =\n",
              "          document.querySelector('#df-fea7a890-5cd1-45bb-a014-63de84c6f4d4 button.colab-df-convert');\n",
              "        buttonEl.style.display =\n",
              "          google.colab.kernel.accessAllowed ? 'block' : 'none';\n",
              "\n",
              "        async function convertToInteractive(key) {\n",
              "          const element = document.querySelector('#df-fea7a890-5cd1-45bb-a014-63de84c6f4d4');\n",
              "          const dataTable =\n",
              "            await google.colab.kernel.invokeFunction('convertToInteractive',\n",
              "                                                     [key], {});\n",
              "          if (!dataTable) return;\n",
              "\n",
              "          const docLinkHtml = 'Like what you see? Visit the ' +\n",
              "            '<a target=\"_blank\" href=https://colab.research.google.com/notebooks/data_table.ipynb>data table notebook</a>'\n",
              "            + ' to learn more about interactive tables.';\n",
              "          element.innerHTML = '';\n",
              "          dataTable['output_type'] = 'display_data';\n",
              "          await google.colab.output.renderOutput(dataTable, element);\n",
              "          const docLink = document.createElement('div');\n",
              "          docLink.innerHTML = docLinkHtml;\n",
              "          element.appendChild(docLink);\n",
              "        }\n",
              "      </script>\n",
              "    </div>\n",
              "  </div>\n",
              "  "
            ]
          },
          "metadata": {},
          "execution_count": 112
        }
      ]
    },
    {
      "cell_type": "code",
      "source": [
        "# когда игрок 1выжил (строка 0), вероятность второго игрока\n",
        "# умереть (среднее по выборке - доля единиц):\n",
        "# 0,33 с вращением барабана\n",
        "# 0,25 без вращения"
      ],
      "metadata": {
        "id": "hMAc8khlHIHh"
      },
      "execution_count": null,
      "outputs": []
    }
  ]
}